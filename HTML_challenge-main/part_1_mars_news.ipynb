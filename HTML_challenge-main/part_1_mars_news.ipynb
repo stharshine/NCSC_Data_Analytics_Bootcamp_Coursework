{
 "cells": [
  {
   "cell_type": "markdown",
   "metadata": {},
   "source": [
    "# Module 12 Challenge\n",
    "## Deliverable 1: Scrape Titles and Preview Text from Mars News"
   ]
  },
  {
   "cell_type": "code",
   "execution_count": 20,
   "metadata": {},
   "outputs": [],
   "source": [
    "# Import Splinter and BeautifulSoup\n",
    "from splinter import Browser\n",
    "from bs4 import BeautifulSoup as soup\n",
    "from webdriver_manager.chrome import ChromeDriverManager\n",
    "from selenium import webdriver"
   ]
  },
  {
   "cell_type": "code",
   "execution_count": 33,
   "metadata": {
    "scrolled": true
   },
   "outputs": [
    {
     "ename": "DriverNotFoundError",
     "evalue": "Driver for chrome was not found.",
     "output_type": "error",
     "traceback": [
      "\u001b[1;31m---------------------------------------------------------------------------\u001b[0m",
      "\u001b[1;31mDriverNotFoundError\u001b[0m                       Traceback (most recent call last)",
      "Cell \u001b[1;32mIn[33], line 3\u001b[0m\n\u001b[0;32m      1\u001b[0m \u001b[39m# driver = ChromeDriverManager().install()\u001b[39;00m\n\u001b[0;32m      2\u001b[0m \u001b[39m# executable_path = {'executable_path': \"C:/Users/tharu/OneDrive/Documents/11-HTLM/Coursework/HTML_challenge/chromedriver.exe\"}\u001b[39;00m\n\u001b[1;32m----> 3\u001b[0m browser \u001b[39m=\u001b[39m Browser(\u001b[39m'\u001b[39;49m\u001b[39mchrome\u001b[39;49m\u001b[39m'\u001b[39;49m)\n",
      "File \u001b[1;32mc:\\Users\\tharu\\AppData\\Local\\Programs\\Python\\Python310\\lib\\site-packages\\splinter\\browser.py:123\u001b[0m, in \u001b[0;36mBrowser\u001b[1;34m(driver_name, retry_count, *args, **kwargs)\u001b[0m\n\u001b[0;32m    120\u001b[0m     \u001b[39mraise\u001b[39;00m DriverNotFoundError(\u001b[39mf\u001b[39m\u001b[39m'\u001b[39m\u001b[39m{\u001b[39;00mdriver_name\u001b[39m}\u001b[39;00m\u001b[39m is not a recognized driver.\u001b[39m\u001b[39m'\u001b[39m)\n\u001b[0;32m    122\u001b[0m \u001b[39mif\u001b[39;00m driver \u001b[39mis\u001b[39;00m \u001b[39mNone\u001b[39;00m:\n\u001b[1;32m--> 123\u001b[0m     \u001b[39mraise\u001b[39;00m DriverNotFoundError(\u001b[39mf\u001b[39m\u001b[39m'\u001b[39m\u001b[39mDriver for \u001b[39m\u001b[39m{\u001b[39;00mdriver_name\u001b[39m}\u001b[39;00m\u001b[39m was not found.\u001b[39m\u001b[39m'\u001b[39m)\n\u001b[0;32m    125\u001b[0m \u001b[39mreturn\u001b[39;00m get_driver(driver, retry_count\u001b[39m=\u001b[39mretry_count, \u001b[39m*\u001b[39margs, \u001b[39m*\u001b[39m\u001b[39m*\u001b[39mkwargs)\n",
      "\u001b[1;31mDriverNotFoundError\u001b[0m: Driver for chrome was not found."
     ]
    }
   ],
   "source": [
    "# driver = ChromeDriverManager().install()\n",
    "# executable_path = {'executable_path': \"C:/Users/tharu/OneDrive/Documents/11-HTLM/Coursework/HTML_challenge/chromedriver.exe\"}\n",
    "browser = Browser('chrome')"
   ]
  },
  {
   "cell_type": "markdown",
   "metadata": {},
   "source": [
    "### Step 1: Visit the Website\n",
    "\n",
    "1. Use automated browsing to visit the [Mars news site](https://static.bc-edx.com/data/web/mars_news/index.html). Inspect the page to identify which elements to scrape.\n",
    "\n",
    "      > **Hint** To identify which elements to scrape, you might want to inspect the page by using Chrome DevTools."
   ]
  },
  {
   "cell_type": "code",
   "execution_count": 24,
   "metadata": {},
   "outputs": [
    {
     "ename": "AttributeError",
     "evalue": "'str' object has no attribute 'visit'",
     "output_type": "error",
     "traceback": [
      "\u001b[1;31m---------------------------------------------------------------------------\u001b[0m",
      "\u001b[1;31mAttributeError\u001b[0m                            Traceback (most recent call last)",
      "Cell \u001b[1;32mIn[24], line 3\u001b[0m\n\u001b[0;32m      1\u001b[0m \u001b[39m# Visit the Mars news site: https://static.bc-edx.com/data/web/mars_news/index.html\u001b[39;00m\n\u001b[0;32m      2\u001b[0m url \u001b[39m=\u001b[39m \u001b[39m'\u001b[39m\u001b[39mhttps://static.bc-edx.com/data/web/mars_news/index.html\u001b[39m\u001b[39m'\u001b[39m\n\u001b[1;32m----> 3\u001b[0m driver\u001b[39m.\u001b[39;49mvisit(url)\n",
      "\u001b[1;31mAttributeError\u001b[0m: 'str' object has no attribute 'visit'"
     ]
    }
   ],
   "source": [
    "# Visit the Mars news site: https://static.bc-edx.com/data/web/mars_news/index.html\n",
    "url = 'https://static.bc-edx.com/data/web/mars_news/index.html'\n",
    "driver.visit(url)"
   ]
  },
  {
   "cell_type": "markdown",
   "metadata": {},
   "source": [
    "### Step 2: Scrape the Website\n",
    "\n",
    "Create a Beautiful Soup object and use it to extract text elements from the website."
   ]
  },
  {
   "cell_type": "code",
   "execution_count": null,
   "metadata": {},
   "outputs": [],
   "source": [
    "# Create a Beautiful Soup object\n",
    "html = browser.html\n",
    "html_soup = soup(html, 'html.parser')"
   ]
  },
  {
   "cell_type": "code",
   "execution_count": null,
   "metadata": {},
   "outputs": [],
   "source": [
    "# Extract all the text elements\n",
    "extracted_titles = html_soup.find_all('div','content_title')\n",
    "extracted_previews = html_soup.find_all('div','article_teaser_body')"
   ]
  },
  {
   "cell_type": "markdown",
   "metadata": {},
   "source": [
    "### Step 3: Store the Results\n",
    "\n",
    "Extract the titles and preview text of the news articles that you scraped. Store the scraping results in Python data structures as follows:\n",
    "\n",
    "* Store each title-and-preview pair in a Python dictionary. And, give each dictionary two keys: `title` and `preview`. An example is the following:\n",
    "\n",
    "  ```python\n",
    "  {'title': \"NASA's MAVEN Observes Martian Light Show Caused by Major Solar Storm\", \n",
    "   'preview': \"For the first time in its eight years orbiting Mars, NASA’s MAVEN mission witnessed two different types of ultraviolet aurorae simultaneously, the result of solar storms that began on Aug. 27.\"\n",
    "  }\n",
    "  ```\n",
    "\n",
    "* Store all the dictionaries in a Python list.\n",
    "\n",
    "* Print the list in your notebook."
   ]
  },
  {
   "cell_type": "code",
   "execution_count": null,
   "metadata": {},
   "outputs": [],
   "source": [
    "# Create an empty list to store the dictionaries\n",
    "mars_articles = []"
   ]
  },
  {
   "cell_type": "code",
   "execution_count": null,
   "metadata": {},
   "outputs": [],
   "source": [
    "# Loop through the text elements\n",
    "for extracted_title, extracted_preview in zip(extracted_titles, extracted_previews):\n",
    "# Extract the title and preview text from the elements\n",
    "    title_text = extracted_title.get_text()\n",
    "# Store each title and preview pair in a dictionary\n",
    "    preview_text = extracted_preview.get_text() \n",
    "\n",
    "    data = {\n",
    "    'title': title_text,\n",
    "    'preview': preview_text\n",
    "}\n",
    "# Add the dictionary to the list\n",
    "    mars_articles.append(data)\n"
   ]
  },
  {
   "cell_type": "code",
   "execution_count": null,
   "metadata": {},
   "outputs": [],
   "source": [
    "# Print the list to confirm success\n",
    "print(mars_articles)"
   ]
  },
  {
   "cell_type": "code",
   "execution_count": null,
   "metadata": {},
   "outputs": [],
   "source": [
    "browser.quit()"
   ]
  },
  {
   "cell_type": "code",
   "execution_count": null,
   "metadata": {},
   "outputs": [],
   "source": []
  }
 ],
 "metadata": {
  "kernelspec": {
   "display_name": "Python 3",
   "language": "python",
   "name": "python3"
  },
  "language_info": {
   "codemirror_mode": {
    "name": "ipython",
    "version": 3
   },
   "file_extension": ".py",
   "mimetype": "text/x-python",
   "name": "python",
   "nbconvert_exporter": "python",
   "pygments_lexer": "ipython3",
   "version": "3.10.0"
  },
  "vscode": {
   "interpreter": {
    "hash": "c2dc56456483910bb9a4a5e982ea9c11a220f882bd298b7690c1df69aba54fef"
   }
  }
 },
 "nbformat": 4,
 "nbformat_minor": 4
}
